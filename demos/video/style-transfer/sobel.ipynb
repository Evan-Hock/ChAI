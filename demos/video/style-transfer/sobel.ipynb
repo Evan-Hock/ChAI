{
 "cells": [
  {
   "cell_type": "code",
   "execution_count": 11,
   "id": "8299f21a",
   "metadata": {},
   "outputs": [],
   "source": [
    "import torch\n",
    "import torch.nn.functional as F\n",
    "\n",
    "\n",
    "sobel_dx = torch.tensor([[-1, 0, 1],\n",
    "                         [-2, 0, 2],\n",
    "                         [-1, 0, 1]], dtype=torch.float32)\n",
    "\n",
    "sobel_dy = torch.tensor([[-1, -2, -1],\n",
    "                         [ 0,  0,  0],\n",
    "                         [ 1,  2,  1]], dtype=torch.float32)\n",
    "\n",
    "kernel = torch.stack([sobel_dx, sobel_dy])   # [2,3,3]\n",
    "kernel = kernel.unsqueeze(1).repeat(1, 3, 1, 1)  # [2,3,3,3]\n",
    "\n",
    "def sobel_filter(img: torch.Tensor) -> torch.Tensor:\n",
    "    \"\"\"\n",
    "    img: Nx3xHxW float32 in [0,1] or [0,255]\n",
    "    returns: Nx2xHxW  (channel 0 = ∂I/∂x, channel 1 = ∂I/∂y)\n",
    "    \"\"\"\n",
    "    return F.conv2d(img, kernel, padding=1)\n",
    "\n",
    "def sobel_magnitude(img: torch.Tensor) -> torch.Tensor:\n",
    "    g = sobel_filter(img)\n",
    "    return (g ** 2).sum(1, keepdim=True).sqrt()\n",
    "\n"
   ]
  },
  {
   "cell_type": "code",
   "execution_count": 12,
   "id": "76b4a97a",
   "metadata": {},
   "outputs": [
    {
     "data": {
      "text/plain": [
       "torch.Size([1, 2, 1428, 1904])"
      ]
     },
     "execution_count": 12,
     "metadata": {},
     "output_type": "execute_result"
    }
   ],
   "source": [
    "img = torch.rand(1, 3, 1428, 1904)\n",
    "sobel_filter(img).shape"
   ]
  },
  {
   "cell_type": "code",
   "execution_count": 27,
   "id": "2bb81778",
   "metadata": {},
   "outputs": [],
   "source": [
    "class Sobel(torch.nn.Module):\n",
    "    def __init__(self):\n",
    "        super(Sobel, self).__init__()\n",
    "        sobel_dx = torch.tensor([[-1, 0, 1],\n",
    "                                [-2, 0, 2],\n",
    "                                [-1, 0, 1]], dtype=torch.float32)\n",
    "\n",
    "        sobel_dy = torch.tensor([[-1, -2, -1],\n",
    "                                [ 0,  0,  0],\n",
    "                                [ 1,  2,  1]], dtype=torch.float32)\n",
    "\n",
    "        sobel_kernel = torch.stack([sobel_dx, sobel_dy])   # [2,3,3]\n",
    "        sobel_kernel = sobel_kernel.unsqueeze(1).repeat(1, 3, 1, 1)  # [2,3,3,3]\n",
    "        sobel_kernel = sobel_kernel.to(torch.float32)\n",
    "\n",
    "        self.sobel_kernel = torch.nn.Parameter(sobel_kernel, requires_grad=False)\n",
    "        # self.sobel_cnn = torch.nn.Conv2d(3, 3, kernel_size=3, stride=1, padding=1, bias=False).to(torch.float16)\n",
    "        # self.sobel_cnn.weight = torch.nn.Parameter(sobel_kernel, requires_grad=False)\n",
    "\n",
    "    def forward(self, x):\n",
    "        # return self.sobel_cnn(x)\n",
    "        return F.conv2d(x, self.sobel_kernel, padding=1,stride=1)\n",
    "\n",
    "sobel = Sobel().to('mps').to(torch.float32)\n",
    "sm = torch.jit.script(sobel)\n",
    "sm.save(\"models/sobel_float32.pt\")\n",
    "sobel = Sobel().to('mps').to(torch.float16)\n",
    "sm = torch.jit.script(sobel)\n",
    "sm.save(\"models/sobel_float16.pt\")"
   ]
  },
  {
   "cell_type": "code",
   "execution_count": null,
   "id": "48b8c033",
   "metadata": {},
   "outputs": [],
   "source": []
  },
  {
   "cell_type": "code",
   "execution_count": 18,
   "id": "805e5f83",
   "metadata": {},
   "outputs": [],
   "source": [
    "m = torch.jit.load(\"models/sobel.pt\")"
   ]
  },
  {
   "cell_type": "code",
   "execution_count": 21,
   "id": "2b79f222",
   "metadata": {},
   "outputs": [],
   "source": [
    "img = torch.rand(1, 3, 1428, 1904).to(torch.float16)\n",
    "existing_model_output = sobel(img)"
   ]
  },
  {
   "cell_type": "code",
   "execution_count": null,
   "id": "b29aea58",
   "metadata": {},
   "outputs": [
    {
     "name": "stdout",
     "output_type": "stream",
     "text": [
      "True\n",
      "torch.Size([1, 2, 1428, 1904])\n",
      "torch.Size([1, 2, 1428, 1904])\n"
     ]
    }
   ],
   "source": [
    "loaded_model_output = m(img)\n",
    "print(torch.allclose(existing_model_output, loaded_model_output, atol=1e-5))\n",
    "print(existing_model_output.shape)\n",
    "print(loaded_model_output.shape)"
   ]
  },
  {
   "cell_type": "code",
   "execution_count": null,
   "id": "24038040",
   "metadata": {},
   "outputs": [
    {
     "name": "stderr",
     "output_type": "stream",
     "text": [
      "2025-05-06 14:52:39.256 Python[52849:2569153] WARNING: AVCaptureDeviceTypeExternal is deprecated for Continuity Cameras. Please use AVCaptureDeviceTypeContinuityCamera and add NSCameraUseContinuityCameraDeviceType to your Info.plist.\n"
     ]
    },
    {
     "ename": "",
     "evalue": "",
     "output_type": "error",
     "traceback": [
      "\u001b[1;31mThe Kernel crashed while executing code in the current cell or a previous cell. \n",
      "\u001b[1;31mPlease review the code in the cell(s) to identify a possible cause of the failure. \n",
      "\u001b[1;31mClick <a href='https://aka.ms/vscodeJupyterKernelCrash'>here</a> for more info. \n",
      "\u001b[1;31mView Jupyter <a href='command:jupyter.viewOutput'>log</a> for further details."
     ]
    }
   ],
   "source": [
    "import cv2\n",
    "\n",
    "# Open the default camera\n",
    "cam = cv2.VideoCapture(0)\n",
    "\n",
    "# Get the default frame width and height\n",
    "frame_width = int(cam.get(cv2.CAP_PROP_FRAME_WIDTH))\n",
    "frame_height = int(cam.get(cv2.CAP_PROP_FRAME_HEIGHT))\n",
    "\n",
    "# Define the codec and create VideoWriter object\n",
    "fourcc = cv2.VideoWriter_fourcc(*'mp4v')\n",
    "out = cv2.VideoWriter('output.mp4', fourcc, 20.0, (frame_width, frame_height))\n",
    "\n",
    "while True:\n",
    "    ret, frame = cam.read()\n",
    "\n",
    "    # Write the frame to the output file\n",
    "    out.write(frame)\n",
    "\n",
    "    # Display the captured frame\n",
    "    cv2.imshow('Camera', frame)\n",
    "\n",
    "    # Press 'q' to exit the loop\n",
    "    if cv2.waitKey(1) == ord('q'):\n",
    "        break\n",
    "\n",
    "# Release the capture and writer objects\n",
    "cam.release()\n",
    "out.release()\n",
    "cv2.destroyAllWindows()"
   ]
  },
  {
   "cell_type": "code",
   "execution_count": null,
   "id": "ad2f6628",
   "metadata": {},
   "outputs": [],
   "source": []
  }
 ],
 "metadata": {
  "kernelspec": {
   "display_name": ".venv",
   "language": "python",
   "name": "python3"
  },
  "language_info": {
   "codemirror_mode": {
    "name": "ipython",
    "version": 3
   },
   "file_extension": ".py",
   "mimetype": "text/x-python",
   "name": "python",
   "nbconvert_exporter": "python",
   "pygments_lexer": "ipython3",
   "version": "3.12.9"
  }
 },
 "nbformat": 4,
 "nbformat_minor": 5
}
