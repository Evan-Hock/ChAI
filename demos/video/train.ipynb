{
 "cells": [
  {
   "cell_type": "code",
   "execution_count": 1,
   "id": "d0dc608c",
   "metadata": {},
   "outputs": [],
   "source": [
    "import torch\n",
    "\n"
   ]
  },
  {
   "cell_type": "code",
   "execution_count": 2,
   "id": "a44af5fa",
   "metadata": {},
   "outputs": [],
   "source": [
    "class MyModule(torch.nn.Module):\n",
    "    def __init__(self):\n",
    "        super(MyModule, self).__init__()\n",
    "        # self.conv1 = torch.nn.Conv2d(in_channels=3,\n",
    "        #                              out_channels=16,\n",
    "        #                              kernel_size=3,\n",
    "        #                              stride=2)\n",
    "        # self.conv2 = torch.nn.Conv2d(in_channels=16,\n",
    "        #                              out_channels=32,\n",
    "        #                              kernel_size=3,\n",
    "        #                              stride=2)\n",
    "\n",
    "    def forward(self, x):\n",
    "        return x.permute(2,1,0)"
   ]
  },
  {
   "cell_type": "code",
   "execution_count": null,
   "id": "3cefd22a",
   "metadata": {},
   "outputs": [],
   "source": []
  }
 ],
 "metadata": {
  "kernelspec": {
   "display_name": ".venv",
   "language": "python",
   "name": "python3"
  },
  "language_info": {
   "codemirror_mode": {
    "name": "ipython",
    "version": 3
   },
   "file_extension": ".py",
   "mimetype": "text/x-python",
   "name": "python",
   "nbconvert_exporter": "python",
   "pygments_lexer": "ipython3",
   "version": "3.12.9"
  }
 },
 "nbformat": 4,
 "nbformat_minor": 5
}
