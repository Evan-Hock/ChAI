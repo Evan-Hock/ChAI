{
 "cells": [
  {
   "cell_type": "code",
   "execution_count": 1,
   "id": "16a699c3",
   "metadata": {},
   "outputs": [],
   "source": [
    "import torch"
   ]
  },
  {
   "cell_type": "code",
   "execution_count": 21,
   "id": "6916b074",
   "metadata": {},
   "outputs": [],
   "source": [
    "A = torch.arange(0,1000000).reshape(1000, 1000).to(torch.float32).to('mps') * 0.00001\n",
    "B = torch.arange(0,1000000).reshape(1000, 1000).to(torch.float32).to('mps') * 0.00001"
   ]
  },
  {
   "cell_type": "markdown",
   "id": "faaecb7f",
   "metadata": {},
   "source": []
  },
  {
   "cell_type": "code",
   "execution_count": 22,
   "id": "2779e698",
   "metadata": {},
   "outputs": [
    {
     "data": {
      "text/plain": [
       "tensor([[3.3283e+01, 3.3283e+01, 3.3283e+01,  ..., 3.3333e+01, 3.3333e+01,\n",
       "         3.3333e+01],\n",
       "        [8.3233e+01, 8.3234e+01, 8.3234e+01,  ..., 8.3383e+01, 8.3383e+01,\n",
       "         8.3383e+01],\n",
       "        [1.3318e+02, 1.3318e+02, 1.3318e+02,  ..., 1.3343e+02, 1.3343e+02,\n",
       "         1.3343e+02],\n",
       "        ...,\n",
       "        [4.9833e+04, 4.9834e+04, 4.9834e+04,  ..., 4.9933e+04, 4.9933e+04,\n",
       "         4.9933e+04],\n",
       "        [4.9883e+04, 4.9883e+04, 4.9884e+04,  ..., 4.9983e+04, 4.9983e+04,\n",
       "         4.9983e+04],\n",
       "        [4.9933e+04, 4.9933e+04, 4.9934e+04,  ..., 5.0033e+04, 5.0033e+04,\n",
       "         5.0033e+04]], device='mps:0')"
      ]
     },
     "execution_count": 22,
     "metadata": {},
     "output_type": "execute_result"
    }
   ],
   "source": [
    "torch.matmul(A,B)"
   ]
  },
  {
   "cell_type": "code",
   "execution_count": 23,
   "id": "6cf685f6",
   "metadata": {},
   "outputs": [
    {
     "data": {
      "text/plain": [
       "tensor([[3.3283e+01, 8.3233e+01, 1.3318e+02,  ..., 4.9833e+04, 4.9883e+04,\n",
       "         4.9933e+04],\n",
       "        [3.3283e+01, 8.3234e+01, 1.3318e+02,  ..., 4.9834e+04, 4.9883e+04,\n",
       "         4.9933e+04],\n",
       "        [3.3283e+01, 8.3234e+01, 1.3318e+02,  ..., 4.9834e+04, 4.9884e+04,\n",
       "         4.9934e+04],\n",
       "        ...,\n",
       "        [3.3333e+01, 8.3383e+01, 1.3343e+02,  ..., 4.9933e+04, 4.9983e+04,\n",
       "         5.0033e+04],\n",
       "        [3.3333e+01, 8.3383e+01, 1.3343e+02,  ..., 4.9933e+04, 4.9983e+04,\n",
       "         5.0033e+04],\n",
       "        [3.3333e+01, 8.3383e+01, 1.3343e+02,  ..., 4.9933e+04, 4.9983e+04,\n",
       "         5.0033e+04]], device='mps:0')"
      ]
     },
     "execution_count": 23,
     "metadata": {},
     "output_type": "execute_result"
    }
   ],
   "source": [
    "torch.einsum('ij,jk->ki',A, B)"
   ]
  },
  {
   "cell_type": "code",
   "execution_count": null,
   "id": "f6c1ec9b",
   "metadata": {},
   "outputs": [],
   "source": []
  }
 ],
 "metadata": {
  "kernelspec": {
   "display_name": ".venv",
   "language": "python",
   "name": "python3"
  },
  "language_info": {
   "codemirror_mode": {
    "name": "ipython",
    "version": 3
   },
   "file_extension": ".py",
   "mimetype": "text/x-python",
   "name": "python",
   "nbconvert_exporter": "python",
   "pygments_lexer": "ipython3",
   "version": "3.12.9"
  }
 },
 "nbformat": 4,
 "nbformat_minor": 5
}
